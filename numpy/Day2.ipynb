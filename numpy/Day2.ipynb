{
 "cells": [
  {
   "cell_type": "markdown",
   "id": "cab45c31",
   "metadata": {},
   "source": [
    "\n",
    "\n",
    "# 🟢 NumPy Array Operations – Index of Concepts\n",
    "\n",
    "## 1️⃣ 1D Array Operations\n",
    "\n",
    "* Array creation (`np.array`)\n",
    "* Basic slicing (`arr[start:end]`)\n",
    "* Step slicing (`arr[start:end:step]`)\n",
    "* Negative indexing (`arr[-n]`)\n",
    "\n",
    "## 2️⃣ 2D Array Operations\n",
    "\n",
    "* 2D array creation (`np.array([[…]])`)\n",
    "* Access specific element (`arr_2d[row][col]`)\n",
    "* Access entire row (`arr_2d[row]`)\n",
    "* Access entire column (`arr_2d[:,col]`)\n",
    "\n",
    "## 3️⃣ Sorting\n",
    "\n",
    "* Sort 1D array (`np.sort(arr)`)\n",
    "* Sort 2D array by column (`np.sort(arr_2d, axis=0)`)\n",
    "\n",
    "## 4️⃣ Filtering Arrays\n",
    "\n",
    "* Filter with condition (`arr[condition]`)\n",
    "* Select even numbers (`arr[arr % 2 == 0]`)\n",
    "* Boolean mask filtering (`mask = arr > value; arr[mask]`)\n",
    "\n",
    "## 5️⃣ Fancy Indexing & `np.where`\n",
    "\n",
    "* Fancy indexing (`arr[[i,j,k]]`)\n",
    "* `np.where(condition)` → indices where condition is True\n",
    "* `np.where(condition, x, y)` → conditional array based on condition\n",
    "\n",
    "## 6️⃣ Adding & Removing Data\n",
    "\n",
    "* Concatenate arrays (`np.concatenate((arr1, arr2))`)\n",
    "* Add row to 2D array (`np.vstack((arr, new_row))`)\n",
    "* Add column to 2D array (`np.hstack((arr, new_col))`)\n",
    "* Delete element (`np.delete(arr, index)`)\n",
    "\n",
    "## 7️⃣ Array Compatibility\n",
    "\n",
    "* Check shapes (`a.shape == b.shape`)\n",
    "\n",
    "---\n"
   ]
  },
  {
   "cell_type": "code",
   "execution_count": 2,
   "id": "76c361ae",
   "metadata": {},
   "outputs": [],
   "source": [
    "import numpy as np\n"
   ]
  },
  {
   "cell_type": "code",
   "execution_count": 3,
   "id": "0332cdb9",
   "metadata": {},
   "outputs": [
    {
     "name": "stdout",
     "output_type": "stream",
     "text": [
      "Basic slicing: [3 4]\n",
      "With step slicing: [3 5 7]\n",
      "nagative indexing: 5\n"
     ]
    }
   ],
   "source": [
    "arr=np.array([1,2,3,4,5,6,7,8,9])\n",
    "print(\"Basic slicing:\",arr[2:4])\n",
    "print(\"With step slicing:\",arr[2:7:2])\n",
    "print(\"nagative indexing:\",arr[-5])"
   ]
  },
  {
   "cell_type": "markdown",
   "id": "fa81b0fd",
   "metadata": {},
   "source": [
    "### 2D arr slicing"
   ]
  },
  {
   "cell_type": "code",
   "execution_count": 4,
   "id": "0ecda383",
   "metadata": {},
   "outputs": [
    {
     "name": "stdout",
     "output_type": "stream",
     "text": [
      "Specific element: 6\n",
      "Entire Row: [3 4 6]\n",
      "Entrie Column: [ 8  6 10]\n"
     ]
    }
   ],
   "source": [
    "arr_2d=np.array([[1,2,8],[3,4,6],[7,9,10]])\n",
    "print(\"Specific element:\",arr_2d[1][2])\n",
    "print(\"Entire Row:\",arr_2d[1])\n",
    "print(\"Entrie Column:\",arr_2d[:,2])"
   ]
  },
  {
   "cell_type": "markdown",
   "id": "0364aaaf",
   "metadata": {},
   "source": [
    "### Sorting"
   ]
  },
  {
   "cell_type": "code",
   "execution_count": 5,
   "id": "03c1d44b",
   "metadata": {},
   "outputs": [
    {
     "name": "stdout",
     "output_type": "stream",
     "text": [
      "sorted array: [1 2 3 4 5 6 7 8 9]\n",
      "sorted 2d array by column: [[1 1]\n",
      " [2 2]\n",
      " [3 3]]\n"
     ]
    }
   ],
   "source": [
    "unsorted_array=np.array([1,6,3,5,8,2,9,4,7])\n",
    "print(\"sorted array:\",np.sort(unsorted_array))\n",
    "\n",
    "arr_2d_unsorted=np.array([[3,1],[1,2],[2,3]])\n",
    "print(\"sorted 2d array by column:\",np.sort(arr_2d_unsorted,axis=0))"
   ]
  },
  {
   "cell_type": "markdown",
   "id": "bcc2670b",
   "metadata": {},
   "source": [
    "### Filter\n"
   ]
  },
  {
   "cell_type": "code",
   "execution_count": 6,
   "id": "bfddd8c9",
   "metadata": {},
   "outputs": [
    {
     "name": "stdout",
     "output_type": "stream",
     "text": [
      "Even numbers: [ 2  4  6  8 10]\n"
     ]
    }
   ],
   "source": [
    "numbers=np.array([1,2,3,4,5,6,7,8,9,10])\n",
    "even_num=numbers[numbers%2==0]\n",
    "print(\"Even numbers:\",even_num)"
   ]
  },
  {
   "cell_type": "markdown",
   "id": "d644b415",
   "metadata": {},
   "source": [
    "### filter with mask\n"
   ]
  },
  {
   "cell_type": "code",
   "execution_count": 7,
   "id": "a5325a46",
   "metadata": {},
   "outputs": [
    {
     "name": "stdout",
     "output_type": "stream",
     "text": [
      "Number with mask filter: [ 6  7  8  9 10]\n"
     ]
    }
   ],
   "source": [
    "mask=numbers>5\n",
    "print(\"Number with mask filter:\",numbers[mask])"
   ]
  },
  {
   "cell_type": "markdown",
   "id": "9cd6404f",
   "metadata": {},
   "source": [
    "### fancy indexing vs np.where()\n"
   ]
  },
  {
   "cell_type": "code",
   "execution_count": 9,
   "id": "72e5ab55",
   "metadata": {},
   "outputs": [
    {
     "name": "stdout",
     "output_type": "stream",
     "text": [
      "[3 5 7]\n",
      "(array([5, 6, 7, 8, 9]),)\n",
      "Np where: [ 6  7  8  9 10]\n"
     ]
    }
   ],
   "source": [
    "indices=[2,4,6]\n",
    "print(numbers[indices])\n",
    "\n",
    "where_result=np.where(numbers>5)\n",
    "print(where_result)\n",
    "print(\"Np where:\",numbers[where_result])"
   ]
  },
  {
   "cell_type": "code",
   "execution_count": 16,
   "id": "f007a629",
   "metadata": {},
   "outputs": [
    {
     "name": "stdout",
     "output_type": "stream",
     "text": [
      "Conditional array: [ 1  2  3  8 10 12 14 16 18 20]\n"
     ]
    }
   ],
   "source": [
    "conditional_array = np.where(numbers > 3, numbers*2, numbers)\n",
    "print(\"Conditional array:\", conditional_array)\n"
   ]
  },
  {
   "cell_type": "markdown",
   "id": "48496e05",
   "metadata": {},
   "source": [
    "### Adding and Removing Data\n"
   ]
  },
  {
   "cell_type": "code",
   "execution_count": 20,
   "id": "bd74d067",
   "metadata": {},
   "outputs": [
    {
     "name": "stdout",
     "output_type": "stream",
     "text": [
      "[1 2 3 4 5 6]\n"
     ]
    }
   ],
   "source": [
    "arr1=np.array([1,2,3])\n",
    "arr2=np.array([4,5,6])\n",
    "conacate_array=np.concatenate((arr1,arr2))\n",
    "print(conacate_array)"
   ]
  },
  {
   "cell_type": "markdown",
   "id": "57a41f30",
   "metadata": {},
   "source": [
    "### Array compatiblity"
   ]
  },
  {
   "cell_type": "code",
   "execution_count": 24,
   "id": "57fe4b73",
   "metadata": {},
   "outputs": [
    {
     "name": "stdout",
     "output_type": "stream",
     "text": [
      "compatiblity shapes: True\n"
     ]
    }
   ],
   "source": [
    "a=np.array([1,2,3])\n",
    "b=np.array([6,7,8])\n",
    "c=np.array([4,5,9])\n",
    "print(\"compatiblity shapes:\",a.shape==b.shape)"
   ]
  },
  {
   "cell_type": "code",
   "execution_count": 29,
   "id": "0c4cee18",
   "metadata": {},
   "outputs": [
    {
     "name": "stdout",
     "output_type": "stream",
     "text": [
      "array with new Row: [[1 2]\n",
      " [3 4]\n",
      " [5 6]]\n",
      "array with new Row: [[1 2 7]\n",
      " [3 4 8]]\n"
     ]
    }
   ],
   "source": [
    "original=np.array([[1,2],[3,4]])\n",
    "new_row=np.array([5,6])\n",
    "with_new_row=np.vstack((original,new_row))\n",
    "print(\"array with new Row:\",with_new_row)\n",
    "\n",
    "new_column=np.array([[7],[8]])\n",
    "with_new_column=np.hstack((original,new_column))\n",
    "print(\"array with new Row:\",with_new_column)"
   ]
  },
  {
   "cell_type": "code",
   "execution_count": 30,
   "id": "c94b8aea",
   "metadata": {},
   "outputs": [
    {
     "name": "stdout",
     "output_type": "stream",
     "text": [
      "Deleted Element: [1 2 4 5 6]\n"
     ]
    }
   ],
   "source": [
    "arr=np.array([1,2,3,4,5,6])\n",
    "deleted=np.delete(arr,2)\n",
    "print(\"Deleted Element:\",deleted)"
   ]
  }
 ],
 "metadata": {
  "kernelspec": {
   "display_name": "venv",
   "language": "python",
   "name": "python3"
  },
  "language_info": {
   "codemirror_mode": {
    "name": "ipython",
    "version": 3
   },
   "file_extension": ".py",
   "mimetype": "text/x-python",
   "name": "python",
   "nbconvert_exporter": "python",
   "pygments_lexer": "ipython3",
   "version": "3.11.3"
  }
 },
 "nbformat": 4,
 "nbformat_minor": 5
}
