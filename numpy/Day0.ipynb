{
 "cells": [
  {
   "cell_type": "markdown",
   "id": "332e0b37-8b7d-4b5f-befa-68c12801cbfc",
   "metadata": {},
   "source": [
    "# welcome in python"
   ]
  },
  {
   "cell_type": "code",
   "execution_count": 1,
   "id": "4bdeec09-c3c4-4b43-8383-cee5e9a6cb4f",
   "metadata": {},
   "outputs": [
    {
     "name": "stdout",
     "output_type": "stream",
     "text": [
      "Hello in python\n"
     ]
    }
   ],
   "source": [
    "print(\"Hello in python\")"
   ]
  },
  {
   "cell_type": "code",
   "execution_count": 2,
   "id": "5d35421a-a279-46c7-abd3-07348dcd962c",
   "metadata": {},
   "outputs": [
    {
     "name": "stdout",
     "output_type": "stream",
     "text": [
      "15\n"
     ]
    }
   ],
   "source": [
    "print(10+5)"
   ]
  },
  {
   "cell_type": "markdown",
   "id": "bb9fb275",
   "metadata": {},
   "source": [
    "#hello\n"
   ]
  }
 ],
 "metadata": {
  "kernelspec": {
   "display_name": "venv",
   "language": "python",
   "name": "python3"
  },
  "language_info": {
   "codemirror_mode": {
    "name": "ipython",
    "version": 3
   },
   "file_extension": ".py",
   "mimetype": "text/x-python",
   "name": "python",
   "nbconvert_exporter": "python",
   "pygments_lexer": "ipython3",
   "version": "3.11.3"
  }
 },
 "nbformat": 4,
 "nbformat_minor": 5
}
