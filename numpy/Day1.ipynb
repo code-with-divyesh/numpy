{
 "cells": [
  {
   "cell_type": "markdown",
   "id": "8a3accb2",
   "metadata": {},
   "source": [
    "# Numpy Basics\n",
    "Today I learn about numpy arrays, properties, and reshaping.\n",
    "\n",
    "## Key Concepts\n",
    "1. Array creation\n",
    "2. List vs Numpy array\n",
    "3. Array properties\n"
   ]
  },
  {
   "cell_type": "code",
   "execution_count": 1,
   "id": "80e80eaa",
   "metadata": {},
   "outputs": [],
   "source": [
    "import numpy as np"
   ]
  },
  {
   "cell_type": "markdown",
   "id": "0c67c851",
   "metadata": {},
   "source": [
    "## Creating array from list"
   ]
  },
  {
   "cell_type": "code",
   "execution_count": 2,
   "id": "a4d19a6f",
   "metadata": {},
   "outputs": [
    {
     "name": "stdout",
     "output_type": "stream",
     "text": [
      "arr_1d: [1 2 3 4 5]\n",
      "arr_2d: [[1 2 3]\n",
      " [4 5 6]]\n"
     ]
    }
   ],
   "source": [
    "arr_1d=np.array([1,2,3,4,5])\n",
    "print(\"arr_1d:\",arr_1d)\n",
    "arr_2d=np.array([[1,2,3],[4,5,6]])\n",
    "print(\"arr_2d:\",arr_2d)\n",
    "\n"
   ]
  },
  {
   "cell_type": "markdown",
   "id": "6dce6500",
   "metadata": {},
   "source": [
    "## List vs numpy array\n"
   ]
  },
  {
   "cell_type": "code",
   "execution_count": 3,
   "id": "8c67a542",
   "metadata": {},
   "outputs": [
    {
     "name": "stdout",
     "output_type": "stream",
     "text": [
      "py list multiplication: [1, 2, 3, 1, 2, 3]\n",
      "numpy array multiplication: [2 4 6]\n",
      "\n",
      " List op time: 0.014611244201660156\n",
      "\n",
      " numpy operation time: 0.0010132789611816406\n"
     ]
    }
   ],
   "source": [
    "py_list=[1,2,3]\n",
    "print(\"py list multiplication:\",py_list*2)\n",
    "\n",
    "np_array=np.array([1,2,3])\n",
    "print(\"numpy array multiplication:\",np_array*2)\n",
    "\n",
    "import time\n",
    "start=time.time()\n",
    "py_list=[i*2 for i in range(100000)]\n",
    "print(\"\\n List op time:\",time.time()-start)\n",
    "\n",
    "start=time.time()\n",
    "np_array=np.arange(100000)*2\n",
    "print(\"\\n numpy operation time:\",time.time()-start)\n"
   ]
  },
  {
   "cell_type": "markdown",
   "id": "7be90ef9",
   "metadata": {},
   "source": [
    "### creating array from scratch"
   ]
  },
  {
   "cell_type": "code",
   "execution_count": 4,
   "id": "e4200dca",
   "metadata": {},
   "outputs": [
    {
     "name": "stdout",
     "output_type": "stream",
     "text": [
      "Zeros Array: [[0. 0. 0. 0.]\n",
      " [0. 0. 0. 0.]\n",
      " [0. 0. 0. 0.]]\n",
      "ones array [[1. 1. 1.]\n",
      " [1. 1. 1.]]\n",
      "Full array [[7 7]\n",
      " [7 7]]\n",
      "Random array [[0.97144371 0.54318235 0.69328803]\n",
      " [0.4463622  0.09482076 0.38402666]]\n",
      "sequence array [0 2 4 6 8]\n"
     ]
    }
   ],
   "source": [
    "zeros=np.zeros((3,4))\n",
    "print(\"Zeros Array:\",zeros)\n",
    "\n",
    "ones=np.ones((2,3))\n",
    "print(\"ones array\",ones)\n",
    "\n",
    "full=np.full((2,2),7)\n",
    "print(\"Full array\",full)\n",
    "\n",
    "\n",
    "random=np.random.random((2,3))\n",
    "print(\"Random array\",random)\n",
    "\n",
    "sequence=np.arange(0,10,2)\n",
    "print(\"sequence array\",sequence)"
   ]
  },
  {
   "cell_type": "markdown",
   "id": "8f1d42c6",
   "metadata": {},
   "source": [
    "### vector,metrix and tensor\n"
   ]
  },
  {
   "cell_type": "code",
   "execution_count": 5,
   "id": "86fd0ac3",
   "metadata": {},
   "outputs": [
    {
     "name": "stdout",
     "output_type": "stream",
     "text": [
      "Vector is [1 2 3]\n",
      "Metrix: [[1 2 3]\n",
      " [1 2 3]]\n",
      "tensor: [[[1 2]\n",
      "  [3 4]]\n",
      "\n",
      " [[4 5]\n",
      "  [8 9]]]\n"
     ]
    }
   ],
   "source": [
    "vector=np.array([1,2,3])\n",
    "print(\"Vector is\",vector)\n",
    "\n",
    "metrix=np.array([[1,2,3],[1,2,3]])\n",
    "print(\"Metrix:\",metrix)\n",
    "\n",
    "tensor=np.array([[[1,2],[3,4]],[[4,5],[8,9]]])\n",
    "print(\"tensor:\",tensor)"
   ]
  },
  {
   "cell_type": "markdown",
   "id": "4e081d06",
   "metadata": {},
   "source": [
    "### Array properties"
   ]
  },
  {
   "cell_type": "code",
   "execution_count": 6,
   "id": "4a55ae98",
   "metadata": {},
   "outputs": [
    {
     "name": "stdout",
     "output_type": "stream",
     "text": [
      "shape: (2, 3)\n",
      "Dimension 2\n",
      "Size 6\n",
      "DType int64\n"
     ]
    }
   ],
   "source": [
    "arr=np.array([[1,2,3],[4,5,6]])\n",
    "print(\"shape:\",arr.shape)\n",
    "print(\"Dimension\",arr.ndim)\n",
    "print(\"Size\",arr.size)\n",
    "print(\"DType\",arr.dtype)\n"
   ]
  },
  {
   "cell_type": "markdown",
   "id": "48da6878",
   "metadata": {},
   "source": [
    "### Array Reshaping\n"
   ]
  },
  {
   "cell_type": "code",
   "execution_count": 7,
   "id": "0dfe6f4d",
   "metadata": {},
   "outputs": [
    {
     "name": "stdout",
     "output_type": "stream",
     "text": [
      "Original array: [ 0  1  2  3  4  5  6  7  8  9 10 11]\n",
      "\n",
      "reshaped array: [[ 0  1  2  3]\n",
      " [ 4  5  6  7]\n",
      " [ 8  9 10 11]]\n",
      "\n",
      "Flatten array: [ 0  1  2  3  4  5  6  7  8  9 10 11]\n",
      "ravaeled array: [ 0  1  2  3  4  5  6  7  8  9 10 11]\n",
      "Transpose array: [[ 0  4  8]\n",
      " [ 1  5  9]\n",
      " [ 2  6 10]\n",
      " [ 3  7 11]]\n"
     ]
    }
   ],
   "source": [
    "arr=np.arange(12)\n",
    "print(\"Original array:\",arr)\n",
    "\n",
    "reshaped=arr.reshape((3,4))\n",
    "print(\"\\nreshaped array:\",reshaped)\n",
    "\n",
    "# return copy array instead of original\n",
    "flattened=reshaped.flatten()\n",
    "print(\"\\nFlatten array:\",flattened)\n",
    "\n",
    "# return original array instead of copy\n",
    "raveled=flattened.ravel()\n",
    "print(\"ravaeled array:\",raveled)\n",
    "\n",
    "transpose=reshaped.T\n",
    "print(\"Transpose array:\",transpose)"
   ]
  }
 ],
 "metadata": {
  "kernelspec": {
   "display_name": "venv",
   "language": "python",
   "name": "python3"
  },
  "language_info": {
   "codemirror_mode": {
    "name": "ipython",
    "version": 3
   },
   "file_extension": ".py",
   "mimetype": "text/x-python",
   "name": "python",
   "nbconvert_exporter": "python",
   "pygments_lexer": "ipython3",
   "version": "3.11.3"
  }
 },
 "nbformat": 4,
 "nbformat_minor": 5
}
